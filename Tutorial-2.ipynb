{
 "cells": [
  {
   "cell_type": "markdown",
   "id": "38934c06-9465-466f-a4d4-945f29fa789f",
   "metadata": {},
   "source": [
    "# Tutorial 2: Ridge and Lasso Regularization\n",
    "\n",
    "In this tutorial, we apply **Ridge** and **Lasso** regression to the *Medical Insurance Charges* dataset.\n",
    "\n",
    "---\n",
    "\n",
    "### Why Regularization?\n",
    "\n",
    "Regularization helps prevent **overfitting** by penalizing large coefficients.\n",
    "\n",
    "- **Ridge Regression (L2 penalty):**\n",
    "  - Shrinks all coefficients towards zero.\n",
    "  - Doesn't eliminate any features completely.\n",
    "\n",
    "- **Lasso Regression (L1 penalty):**\n",
    "  - Can shrink some coefficients **exactly to zero**.\n",
    "  - Performs both **shrinkage and feature selection**.\n",
    "  - We load the **preprocessed training/testing data** from Tutorial 1 and apply Ridge & Lasso regression.\n",
    "\n",
    "---\n",
    "\n",
    "We will:\n",
    "1. Fit Ridge and Lasso models\n",
    "2. Print and compare coefficients"
   ]
  },
  {
   "cell_type": "code",
   "execution_count": 16,
   "id": "513690f8-bbc2-476a-967a-58cf7cf18580",
   "metadata": {},
   "outputs": [],
   "source": [
    "import pandas as pd\n",
    "from sklearn.linear_model import Ridge, Lasso\n",
    "from sklearn.model_selection import train_test_split\n",
    "from sklearn.preprocessing import StandardScaler, OneHotEncoder\n",
    "from sklearn.compose import ColumnTransformer\n",
    "\n",
    "import joblib\n",
    "from sklearn.linear_model import Ridge, Lasso\n",
    "\n",
    "# Load preprocessed data\n",
    "X_train, X_test, y_train, y_test = joblib.load(\"insurance_data_split.pkl\")"
   ]
  },
  {
   "cell_type": "markdown",
   "id": "9720f5e3-8cac-40aa-b93b-adb46031fbbe",
   "metadata": {},
   "source": [
    "### Ridge Regression: "
   ]
  },
  {
   "cell_type": "code",
   "execution_count": 28,
   "id": "a16f7dcc-39fa-4dc0-8615-bafa4a32d625",
   "metadata": {},
   "outputs": [
    {
     "name": "stdout",
     "output_type": "stream",
     "text": [
      "Ridge Coefficients:\n",
      "[ 3.60327080e+03  2.05193836e+03  5.13153656e+02 -1.06355787e+01\n",
      "  2.35146348e+04 -3.66152625e+02 -6.43009456e+02 -8.02913351e+02]\n"
     ]
    }
   ],
   "source": [
    "ridge = Ridge(alpha=1.0)\n",
    "ridge.fit(X_train, y_train)\n",
    "print(\"Ridge Coefficients:\")\n",
    "print(ridge.coef_)"
   ]
  },
  {
   "cell_type": "markdown",
   "id": "a590c34b-32b0-4062-852b-a037a4abaac2",
   "metadata": {},
   "source": [
    "### Lasso Regression:"
   ]
  },
  {
   "cell_type": "code",
   "execution_count": 26,
   "id": "9e1b0129-2f85-4ebd-b7eb-afcac61e9f79",
   "metadata": {},
   "outputs": [
    {
     "name": "stdout",
     "output_type": "stream",
     "text": [
      "\n",
      "Lasso Coefficients:\n",
      "[ 3.60821741e+03  2.05269422e+03  5.11517339e+02 -1.40450990e+01\n",
      "  2.36446476e+04 -3.54189843e+02 -6.40187430e+02 -7.93012399e+02]\n"
     ]
    }
   ],
   "source": [
    "lasso = Lasso(alpha=1.0)\n",
    "lasso.fit(X_train, y_train)\n",
    "print(\"\\nLasso Coefficients:\")\n",
    "print(lasso.coef_)"
   ]
  },
  {
   "cell_type": "markdown",
   "id": "979ca83d-087d-4526-b78e-2508376fa307",
   "metadata": {},
   "source": [
    "### Observations from Output\n",
    "\n",
    "- **Ridge Regression Coefficients:**\n",
    "  \n",
    "  [ 3603.27, 2051.94, 513.15, -10.64, 23514.63, -366.15, -643.01, -802.91 ]\n",
    "\n",
    "- **Lasso Regression Coefficients:**\n",
    "\n",
    "  [ 3608.22, 2052.69, 511.52, -14.05, 23644.65, -354.19, -640.19, -793.01 ]\n",
    "\n",
    "---\n",
    "\n",
    "#### Interpretation:\n",
    "\n",
    "- Both **Ridge** and **Lasso** resulted in very similar coefficients, indicating **low multicollinearity** among features.\n",
    "- **Ridge** slightly shrinks all coefficients but **retains all features** (none become zero).\n",
    "- **Lasso** also shrinks the coefficients, but in this case, **none are exactly zero** — meaning it didn’t drop any features.  \n",
    "- However, with a higher regularization strength (`alpha`), **Lasso** could potentially reduce some coefficients **to zero**, performing **automatic feature selection**.\n",
    "- These regularization techniques help improve **generalization** and reduce the risk of **overfitting** in the model."
   ]
  }
 ],
 "metadata": {
  "kernelspec": {
   "display_name": "Python 3 (ipykernel)",
   "language": "python",
   "name": "python3"
  },
  "language_info": {
   "codemirror_mode": {
    "name": "ipython",
    "version": 3
   },
   "file_extension": ".py",
   "mimetype": "text/x-python",
   "name": "python",
   "nbconvert_exporter": "python",
   "pygments_lexer": "ipython3",
   "version": "3.12.4"
  }
 },
 "nbformat": 4,
 "nbformat_minor": 5
}
